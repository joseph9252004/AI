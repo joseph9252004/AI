{
  "nbformat": 4,
  "nbformat_minor": 0,
  "metadata": {
    "colab": {
      "provenance": []
    },
    "kernelspec": {
      "name": "python3",
      "display_name": "Python 3"
    },
    "language_info": {
      "name": "python"
    }
  },
  "cells": [
    {
      "cell_type": "code",
      "execution_count": 34,
      "metadata": {
        "id": "RbtsYVhfdrz4"
      },
      "outputs": [],
      "source": [
        "import os\n",
        "import pandas as pd\n",
        "import kagglehub\n",
        "import numpy as np\n",
        "import tensorflow as tf\n",
        "from sklearn.model_selection import train_test_split\n",
        "from sklearn.metrics import accuracy_score\n",
        "from tensorflow.keras.preprocessing.text import Tokenizer\n",
        "from tensorflow.keras.preprocessing.sequence import pad_sequences\n",
        "from tensorflow.keras.models import Sequential\n",
        "from tensorflow.keras.layers import Embedding, LSTM, Dense, Dropout, Bidirectional"
      ]
    },
    {
      "cell_type": "markdown",
      "source": [
        "# **download and read the data set**"
      ],
      "metadata": {
        "id": "vUp8lk0rr7_i"
      }
    },
    {
      "cell_type": "code",
      "source": [
        "path = kagglehub.dataset_download(\"jp797498e/twitter-entity-sentiment-analysis\")\n",
        "csv_file = os.path.join(path, \"twitter_training.csv\")\n",
        "df = pd.read_csv(csv_file, delimiter=\",\", names=[\"ID\", \"game\", \"sentiment\", \"text\"], encoding=\"utf-8\")"
      ],
      "metadata": {
        "id": "2-k89eiur-Ay"
      },
      "execution_count": 35,
      "outputs": []
    },
    {
      "cell_type": "markdown",
      "source": [
        "#**Convert Sentiment labels to numbers and keep only Sentiment & Text**\n"
      ],
      "metadata": {
        "id": "GcXnRohpsBBa"
      }
    },
    {
      "cell_type": "code",
      "source": [
        "df = df[[\"sentiment\", \"text\"]].dropna()\n",
        "label_mapping = {\"Positive\": 2, \"Neutral\": 1, \"Negative\": 0}\n",
        "df[\"sentiment\"] = df[\"sentiment\"].map(label_mapping).fillna(1).astype(int)"
      ],
      "metadata": {
        "id": "aNrrLwumsnBS"
      },
      "execution_count": 36,
      "outputs": []
    },
    {
      "cell_type": "markdown",
      "source": [
        "# Tokenization & Padding"
      ],
      "metadata": {
        "id": "WO9sR9z8s2aS"
      }
    },
    {
      "cell_type": "code",
      "source": [
        "VOCAB_SIZE = 5000\n",
        "MAX_LENGTH = 50\n",
        "\n",
        "tokenizer = Tokenizer(num_words=VOCAB_SIZE, oov_token=\"<OOV>\")\n",
        "tokenizer.fit_on_texts(df[\"text\"])\n",
        "sequences = tokenizer.texts_to_sequences(df[\"text\"])\n",
        "padded_sequences = pad_sequences(sequences, maxlen=MAX_LENGTH, padding=\"post\")"
      ],
      "metadata": {
        "id": "t4Bwq-zgs53y"
      },
      "execution_count": 37,
      "outputs": []
    },
    {
      "cell_type": "markdown",
      "source": [
        "# Split Data into Train & Test"
      ],
      "metadata": {
        "id": "oP6xfOdCs9SJ"
      }
    },
    {
      "cell_type": "code",
      "source": [
        "y = np.array(df[\"sentiment\"])\n",
        "X_train, X_test, y_train, y_test = train_test_split(padded_sequences, y, test_size=0.2, random_state=42)"
      ],
      "metadata": {
        "id": "1MD09SuHtICh"
      },
      "execution_count": 38,
      "outputs": []
    },
    {
      "cell_type": "markdown",
      "source": [
        "# Model Definition and Train"
      ],
      "metadata": {
        "id": "UqBgu5N0tOCJ"
      }
    },
    {
      "cell_type": "code",
      "source": [
        "model = Sequential([\n",
        "    Embedding(VOCAB_SIZE , 128),\n",
        "    LSTM(64, return_sequences=True),\n",
        "    LSTM(64),\n",
        "    Dense(32, activation='relu'),\n",
        "    Dense(3, activation='softmax')\n",
        "])\n",
        "\n",
        "\n",
        "model.compile(loss=\"sparse_categorical_crossentropy\", optimizer=\"adam\", metrics=[\"accuracy\"])\n",
        "model.fit(X_train, y_train, epochs=5, batch_size=32, validation_split=0.2)"
      ],
      "metadata": {
        "colab": {
          "base_uri": "https://localhost:8080/"
        },
        "id": "5kcejJIbtOiJ",
        "outputId": "59725219-a95d-443c-ee9d-1e17d59ca91f"
      },
      "execution_count": null,
      "outputs": [
        {
          "output_type": "stream",
          "name": "stdout",
          "text": [
            "Epoch 1/5\n",
            "\u001b[1m1480/1480\u001b[0m \u001b[32m━━━━━━━━━━━━━━━━━━━━\u001b[0m\u001b[37m\u001b[0m \u001b[1m120s\u001b[0m 77ms/step - accuracy: 0.4270 - loss: 1.0762 - val_accuracy: 0.5617 - val_loss: 0.9382\n",
            "Epoch 2/5\n",
            "\u001b[1m1480/1480\u001b[0m \u001b[32m━━━━━━━━━━━━━━━━━━━━\u001b[0m\u001b[37m\u001b[0m \u001b[1m138s\u001b[0m 74ms/step - accuracy: 0.6253 - loss: 0.8335 - val_accuracy: 0.7194 - val_loss: 0.6666\n",
            "Epoch 3/5\n",
            "\u001b[1m1480/1480\u001b[0m \u001b[32m━━━━━━━━━━━━━━━━━━━━\u001b[0m\u001b[37m\u001b[0m \u001b[1m141s\u001b[0m 74ms/step - accuracy: 0.7741 - loss: 0.5609 - val_accuracy: 0.7633 - val_loss: 0.5889\n",
            "Epoch 4/5\n",
            "\u001b[1m1480/1480\u001b[0m \u001b[32m━━━━━━━━━━━━━━━━━━━━\u001b[0m\u001b[37m\u001b[0m \u001b[1m142s\u001b[0m 74ms/step - accuracy: 0.8370 - loss: 0.4226 - val_accuracy: 0.7996 - val_loss: 0.5198\n",
            "Epoch 5/5\n",
            "\u001b[1m1480/1480\u001b[0m \u001b[32m━━━━━━━━━━━━━━━━━━━━\u001b[0m\u001b[37m\u001b[0m \u001b[1m0s\u001b[0m 69ms/step - accuracy: 0.8739 - loss: 0.3280"
          ]
        }
      ]
    },
    {
      "cell_type": "markdown",
      "source": [
        "# Evaluate Model on Test Data"
      ],
      "metadata": {
        "id": "u8BJMqU5tcYJ"
      }
    },
    {
      "cell_type": "code",
      "source": [
        "y_pred_probs = model.predict(X_test)\n",
        "y_pred = np.argmax(y_pred_probs, axis=1)"
      ],
      "metadata": {
        "colab": {
          "base_uri": "https://localhost:8080/"
        },
        "id": "MdjDaBYbtdSh",
        "outputId": "cbabea07-7246-45aa-d7b6-9bcbec2831c8"
      },
      "execution_count": 40,
      "outputs": [
        {
          "output_type": "stream",
          "name": "stdout",
          "text": [
            "\u001b[1m463/463\u001b[0m \u001b[32m━━━━━━━━━━━━━━━━━━━━\u001b[0m\u001b[37m\u001b[0m \u001b[1m10s\u001b[0m 21ms/step\n"
          ]
        }
      ]
    },
    {
      "cell_type": "markdown",
      "source": [
        "#Calculate Accuracy"
      ],
      "metadata": {
        "id": "pfGZWO04to2J"
      }
    },
    {
      "cell_type": "code",
      "source": [
        "accuracy = accuracy_score(y_test, y_pred)\n",
        "print(f\"Test Accuracy: {accuracy * 100:.2f}%\")"
      ],
      "metadata": {
        "colab": {
          "base_uri": "https://localhost:8080/"
        },
        "id": "3lEJA6MZttkp",
        "outputId": "c835e6bb-f0d7-4805-ddd6-dee3cc9f3e30"
      },
      "execution_count": 41,
      "outputs": [
        {
          "output_type": "stream",
          "name": "stdout",
          "text": [
            "Test Accuracy: 81.59%\n"
          ]
        }
      ]
    }
  ]
}